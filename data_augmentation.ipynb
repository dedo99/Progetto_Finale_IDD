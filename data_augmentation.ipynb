{
 "cells": [
  {
   "cell_type": "code",
   "execution_count": null,
   "metadata": {},
   "outputs": [],
   "source": [
    "from pathlib import Path\n",
    "import pandas as pd"
   ]
  },
  {
   "cell_type": "code",
   "execution_count": null,
   "metadata": {},
   "outputs": [],
   "source": [
    "def normalizeDataset(path):\n",
    "    #schema mediato finale di schema alignment\n",
    "    df = pd.read_csv(path, sep=';')\n",
    "\n",
    "    for column in df.columns:\n",
    "        df[column] = df[column].astype(str).str.upper()\n",
    "    return df[df.columns[1:]]\n"
   ]
  },
  {
   "cell_type": "code",
   "execution_count": null,
   "metadata": {},
   "outputs": [],
   "source": [
    "df_integration = pd.read_csv('output_integration/final_plt.csv')"
   ]
  },
  {
   "cell_type": "code",
   "execution_count": null,
   "metadata": {},
   "outputs": [],
   "source": [
    "import time\n",
    "directory = 'datasets_for_augmentation'\n",
    "dataset_list = Path(directory).glob('*.csv')\n",
    "\n",
    "matches = {'500Companies.csv': [('0', 'stock'), ('3', 'sector'),('4', 'address')],\n",
    "            '400Companies.csv': [('0', 'stock'), ('2', 'sector')],\n",
    "            'AirlineCodes.csv': [('2', 'country')]\n",
    "         }\n",
    "\n",
    "i=0\n",
    "num_substitutions = 0\n",
    "num_error = 0\n",
    "start = time.time()\n",
    "for path in dataset_list:\n",
    "    print(str(i) + \" \" + str(path))\n",
    "    i = i+1\n",
    "    df2 = normalizeDataset(path)\n",
    "    name_dataset = str(path).split('\\\\')[1]\n",
    "    try:\n",
    "      for index, row in df_integration.iterrows():\n",
    "         for index2, row2 in df2.iterrows():\n",
    "            if len(row['name']) > 3:\n",
    "               if row['name'] in row2['1']:\n",
    "                  for col_df2, col_integration in matches[name_dataset]:\n",
    "                     if df_integration[df_integration.index == index][col_integration].isnull().values.any():\n",
    "                        num_substitutions+=1\n",
    "                        row.at[col_integration] = row2[col_df2]\n",
    "    except Exception as e:\n",
    "      print(e)\n",
    "      print(\"ERRORE \" + str(path))\n",
    "      num_error = num_error + 1\n",
    "\n",
    "print('Num Substitutions: ' + str(num_substitutions))\n",
    "print('Num Errors: ' + str(num_error))\n",
    "print('Time Elapsed: ' + str(time.time() - start))\n",
    "df_integration"
   ]
  }
 ],
 "metadata": {
  "kernelspec": {
   "display_name": "bert",
   "language": "python",
   "name": "python3"
  },
  "language_info": {
   "codemirror_mode": {
    "name": "ipython",
    "version": 3
   },
   "file_extension": ".py",
   "mimetype": "text/x-python",
   "name": "python",
   "nbconvert_exporter": "python",
   "pygments_lexer": "ipython3",
   "version": "3.8.15"
  },
  "orig_nbformat": 4,
  "vscode": {
   "interpreter": {
    "hash": "6e507f021528ee598d4189b61a0c3eda1bdaecd993998d2871a13eaf733316a7"
   }
  }
 },
 "nbformat": 4,
 "nbformat_minor": 2
}
