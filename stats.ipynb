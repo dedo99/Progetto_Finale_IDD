{
 "cells": [
  {
   "cell_type": "code",
   "execution_count": null,
   "metadata": {},
   "outputs": [],
   "source": [
    "import pandas as pd\n",
    "import matplotlib.pyplot as plt\n",
    "import time"
   ]
  },
  {
   "cell_type": "code",
   "execution_count": null,
   "metadata": {},
   "outputs": [],
   "source": [
    "df_schema_alignment = pd.read_json('output_alignment_multithread_finalpass/schema_mediato.json')\n",
    "df_data_integration = pd.read_csv('output_integration/final_plt.csv')\n",
    "df_data_augmentation = pd.read_csv('output_augmentation/dataset_finale.csv')"
   ]
  },
  {
   "cell_type": "code",
   "execution_count": null,
   "metadata": {},
   "outputs": [],
   "source": []
  },
  {
   "cell_type": "code",
   "execution_count": null,
   "metadata": {},
   "outputs": [],
   "source": [
    "plt.title('Numero di entità')\n",
    "plt.bar(['Schema Alignment'], [len(df_schema_alignment)]) \n",
    "plt.bar(['Data Integration'], [len(df_data_integration)])\n",
    "plt.bar(['Data Augmentation'], [len(df_data_augmentation)])\n",
    "plt.show()"
   ]
  },
  {
   "cell_type": "code",
   "execution_count": null,
   "metadata": {},
   "outputs": [],
   "source": [
    "\n",
    "print(df_schema_alignment.isnull().sum().sum()/(df_schema_alignment.shape[1]*df_schema_alignment.shape[0])) \n",
    "print(df_data_integration.isnull().sum().sum()/(df_data_integration.shape[1]*df_data_integration.shape[0])) \n",
    "print(df_data_augmentation.isnull().sum().sum()/(df_data_augmentation.shape[1]*df_data_augmentation.shape[0]))"
   ]
  },
  {
   "cell_type": "code",
   "execution_count": null,
   "metadata": {},
   "outputs": [],
   "source": [
    "nullXColumn = {}\n",
    "for column in df_schema_alignment.columns:\n",
    "    nullXColumn[column] = [df_schema_alignment[column].isnull().sum() / len(df_schema_alignment), df_data_integration[column].isnull().sum() / len(df_data_integration), df_data_augmentation[column].isnull().sum() / len(df_data_augmentation)]\n",
    "column = 'country'\n",
    "plt.title('% valori nulli ' + column)\n",
    "plt.bar(['Schema Alignment'], [nullXColumn[column][0]])\n",
    "plt.bar(['Data Integration'], [nullXColumn[column][1]])\n",
    "plt.bar(['Data Augmentation'], [nullXColumn[column][2]])\n"
   ]
  },
  {
   "cell_type": "code",
   "execution_count": null,
   "metadata": {},
   "outputs": [],
   "source": [
    "df_stats = pd.DataFrame(columns=['Column', 'Schema Alignment', 'Data Integration', 'Data Augmentation'])\n",
    "for k in nullXColumn.keys():\n",
    "    df_stats.loc[len(df_stats.index)] = [k, nullXColumn[k][0]*100, nullXColumn[k][1]*100, nullXColumn[k][2]*100]\n",
    "df_stats"
   ]
  },
  {
   "cell_type": "code",
   "execution_count": null,
   "metadata": {},
   "outputs": [],
   "source": [
    "len(df_schema_alignment)"
   ]
  },
  {
   "cell_type": "code",
   "execution_count": null,
   "metadata": {},
   "outputs": [],
   "source": [
    "from pathlib import Path\n",
    "directory = 'datasets'\n",
    "dataset_list_json = Path(directory).glob('*.json')\n",
    "dataset_list_jsonl = Path(directory).glob('*.jsonl')\n",
    "dataset_list_csv = Path(directory).glob('*.csv')\n",
    "dataset_list_xls = Path(directory).glob('*.xls')\n",
    "dataset_list_xlsx = Path(directory).glob('*.xlsx')\n",
    "\n",
    "i=0\n",
    "i_tot=0\n",
    "tot = 0\n",
    "tot_final = 0\n",
    "for path in dataset_list_json:\n",
    "    print(str(i) + \" \" + str(path))\n",
    "    i = i+1\n",
    "    df2 = pd.read_json(path)\n",
    "    tot += len(df2.columns)\n",
    "print(tot/i)\n",
    "tot_final += tot\n",
    "i_tot += i\n",
    "\n",
    "i=0\n",
    "tot = 0\n",
    "for path in dataset_list_jsonl:\n",
    "    print(str(i) + \" \" + str(path))\n",
    "    i = i+1\n",
    "    df2 = pd.read_json(path, lines=True)\n",
    "    tot += len(df2.columns)\n",
    "print(tot/i)\n",
    "tot_final += tot\n",
    "i_tot += i\n",
    "   \n",
    "i=0 \n",
    "tot = 0\n",
    "for path in dataset_list_csv:\n",
    "    print(str(i) + \" \" + str(path))\n",
    "    i = i+1\n",
    "    df2 = pd.read_csv(path, encoding='ISO-8859-1')\n",
    "    tot += len(df2.columns)\n",
    "print(tot/i)\n",
    "tot_final += tot\n",
    "i_tot += i\n",
    "    \n",
    "i=0\n",
    "tot = 0\n",
    "for path in dataset_list_xls:\n",
    "    print(str(i) + \" \" + str(path))\n",
    "    i = i+1\n",
    "    df2 = pd.read_excel(path)\n",
    "    tot += len(df2)\n",
    "print(tot/i)\n",
    "tot_final += tot\n",
    "i_tot += i\n",
    "\n",
    "i=0\n",
    "tot = 0\n",
    "for path in dataset_list_xlsx:\n",
    "    print(str(i) + \" \" + str(path))\n",
    "    i = i+1\n",
    "    df2 = pd.read_excel(path)\n",
    "    tot += len(df2.columns)\n",
    "print(tot/i)\n",
    "tot_final += tot\n",
    "i_tot += i\n",
    "\n",
    "print(tot_final/i_tot)"
   ]
  },
  {
   "cell_type": "code",
   "execution_count": null,
   "metadata": {},
   "outputs": [],
   "source": [
    "result_dm = pd.read_csv('datasets_deepmatcher/result_deepmatcher.csv')"
   ]
  },
  {
   "cell_type": "code",
   "execution_count": null,
   "metadata": {},
   "outputs": [],
   "source": [
    "result_dm"
   ]
  },
  {
   "cell_type": "code",
   "execution_count": null,
   "metadata": {},
   "outputs": [],
   "source": [
    "len(result_dm[result_dm[result_dm.index == 0]>0.7])/len(result_dm)"
   ]
  }
 ],
 "metadata": {
  "kernelspec": {
   "display_name": "bert",
   "language": "python",
   "name": "python3"
  },
  "language_info": {
   "codemirror_mode": {
    "name": "ipython",
    "version": 3
   },
   "file_extension": ".py",
   "mimetype": "text/x-python",
   "name": "python",
   "nbconvert_exporter": "python",
   "pygments_lexer": "ipython3",
   "version": "3.8.15"
  },
  "orig_nbformat": 4,
  "vscode": {
   "interpreter": {
    "hash": "6e507f021528ee598d4189b61a0c3eda1bdaecd993998d2871a13eaf733316a7"
   }
  }
 },
 "nbformat": 4,
 "nbformat_minor": 2
}
