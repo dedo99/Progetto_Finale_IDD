{
 "cells": [
  {
   "cell_type": "code",
   "execution_count": 3,
   "metadata": {},
   "outputs": [],
   "source": [
    "import pandas as pd\n",
    "import matplotlib.pyplot as plt\n",
    "import time"
   ]
  },
  {
   "cell_type": "code",
   "execution_count": 15,
   "metadata": {},
   "outputs": [
    {
     "name": "stderr",
     "output_type": "stream",
     "text": [
      "C:\\Users\\feder\\AppData\\Local\\Temp\\ipykernel_20964\\3818830968.py:2: DtypeWarning: Columns (10,14) have mixed types. Specify dtype option on import or set low_memory=False.\n",
      "  df_data_integration = pd.read_csv('output_integration/final_plt.csv')\n",
      "C:\\Users\\feder\\AppData\\Local\\Temp\\ipykernel_20964\\3818830968.py:3: DtypeWarning: Columns (10,14) have mixed types. Specify dtype option on import or set low_memory=False.\n",
      "  df_data_augmentation = pd.read_csv('output_augmentation/dataset_finale.csv')\n"
     ]
    }
   ],
   "source": [
    "df_schema_alignment = pd.read_json('output_alignment_multithread_finalpass/schema_mediato.json')\n",
    "df_data_integration = pd.read_csv('output_integration/final_plt.csv')\n",
    "df_data_augmentation = pd.read_csv('output_augmentation/dataset_finale.csv')"
   ]
  },
  {
   "cell_type": "code",
   "execution_count": 36,
   "metadata": {},
   "outputs": [
    {
     "data": {
      "image/png": "[encoded data removed]",
      "text/plain": [
       "<Figure size 640x480 with 1 Axes>"
      ]
     },
     "metadata": {},
     "output_type": "display_data"
    }
   ],
   "source": [
    "nullXColumn = {}\n",
    "for column in df_schema_alignment.columns:\n",
    "    nullXColumn[column] = [df_schema_alignment[column].isnull().sum() / len(df_schema_alignment), df_data_integration[column].isnull().sum() / len(df_data_integration), df_data_augmentation[column].isnull().sum() / len(df_data_augmentation)]\n",
    "plt.title('% valori nulli ')\n",
    "plt.bar(['Schema Alignment','Data Integration','Data Augmentation'], nullXColumn['revenue'])\n",
    "plt.show()"
   ]
  },
  {
   "cell_type": "code",
   "execution_count": 33,
   "metadata": {},
   "outputs": [
    {
     "data": {
      "text/plain": [
       "{'name': [0.03370843088387081, 0.0, 0.0],\n",
       " 'industry': [0.7441129824031417, 0.5040939393101159, 0.5040939393101159],\n",
       " 'market_cap': [0.5480804571658737, 0.4456308262565351, 0.4456308262565351],\n",
       " 'employees': [0.6634896659366111, 0.5234848275289757, 0.5234848275289757],\n",
       " 'country': [0.4634342824056592, 0.560454759204448, 0.5600813255511604],\n",
       " 'headquarters': [0.6324245399390781, 0.4273879007496335, 0.4273879007496335],\n",
       " 'address': [0.934828688669033, 0.8440568725623081, 0.8321623191612957],\n",
       " 'sector': [0.9082748030108502, 0.9025753091200797, 0.8806810323365882],\n",
       " 'ceo': [0.7638144148226468, 0.7416530663052198, 0.7416530663052198],\n",
       " 'founded': [0.8144097877803791, 0.6647533954800697, 0.6647533954800697],\n",
       " 'founders': [0.9929713264355663, 0.9879809687145584, 0.9879809687145584],\n",
       " 'share_price': [0.7621579437605418, 0.8193272661890404, 0.8193272661890404],\n",
       " 'website': [0.8593560405810236, 0.7663411800503444, 0.7663411800503444],\n",
       " 'stock': [0.9336303904538932, 0.8731570357666455, 0.8580122264944262],\n",
       " 'area_served': [0.9980716461495859, 0.9947580979779259, 0.9947580979779259],\n",
       " 'revenue': [0.7714825164262518, 0.6484329617437968, 0.6484329617437968]}"
      ]
     },
     "execution_count": 33,
     "metadata": {},
     "output_type": "execute_result"
    }
   ],
   "source": [
    "nullXColumn"
   ]
  },
  {
   "cell_type": "code",
   "execution_count": 40,
   "metadata": {},
   "outputs": [
    {
     "data": {
      "text/plain": [
       "198615"
      ]
     },
     "execution_count": 40,
     "metadata": {},
     "output_type": "execute_result"
    }
   ],
   "source": [
    "len(df_schema_alignment)"
   ]
  },
  {
   "cell_type": "code",
   "execution_count": 48,
   "metadata": {},
   "outputs": [
    {
     "name": "stdout",
     "output_type": "stream",
     "text": [
      "0 datasets\\cbinsights.json\n",
      "1 datasets\\companiesmarketcap.json\n",
      "2 datasets\\disfold.com.json\n",
      "3 datasets\\disfold.json\n",
      "4 datasets\\forbes.com.json\n",
      "5 datasets\\ft.com.json\n",
      "6 datasets\\gren-companiesmarketcap.com.json\n",
      "7 datasets\\gren-disfold.com.json\n",
      "8 datasets\\gren-ft.com.json\n",
      "9 datasets\\gren-value.today.json\n",
      "10 datasets\\igmm-disfold.com.json\n",
      "11 datasets\\marketCap2.json\n",
      "12 datasets\\output_disfold.json\n",
      "13 datasets\\output_globaldata.json\n",
      "14 datasets\\output_govuk_bigsize.json\n",
      "15 datasets\\output_wiki.json\n",
      "16 datasets\\slytherin-value.today.json\n",
      "17 datasets\\value.today.json\n",
      "18 datasets\\valueToday2.json\n",
      "19 datasets\\wiki.json\n",
      "8.0\n",
      "0 datasets\\companiesMarketCap_dataset.jsonl\n",
      "1 datasets\\disfold_dataset.jsonl\n",
      "2 datasets\\hitHorizons_dataset.jsonl\n",
      "3 datasets\\valueToday_dataset.jsonl\n",
      "11.75\n",
      "0 datasets\\campaignindia.csv\n",
      "1 datasets\\company_social_urls.csv\n",
      "2 datasets\\DDD-cbinsight.com.csv\n",
      "3 datasets\\DDD-companiesmarketcap.com.csv\n",
      "4 datasets\\DDD-ft.com.csv\n",
      "5 datasets\\DDD-teamblind.com.csv\n",
      "6 datasets\\disfold.csv\n",
      "7 datasets\\famcap_germany.csv\n",
      "8 datasets\\followers.csv\n",
      "9 datasets\\forbes.csv\n",
      "10 datasets\\ft.csv\n",
      "11 datasets\\MarScoToc-ambitionbox.com.csv\n",
      "12 datasets\\MarScoToc-companiesmarketcap.com.csv\n",
      "13 datasets\\MarScoToc-disfold.com.csv\n",
      "14 datasets\\MarScoToc-wikipedia.org.csv\n",
      "15 datasets\\silvestri-disfold.com.csv\n",
      "16 datasets\\silvestri-forbes.com.csv\n",
      "17 datasets\\silvestri-ft.com.csv\n",
      "18 datasets\\silvestri-value.today.csv\n",
      "19 datasets\\sole24ore.csv\n",
      "20 datasets\\valuetoday.csv\n",
      "21 datasets\\wissel-activity-ariregister.rik.ee.csv\n",
      "22 datasets\\wissel-aziende-ariregister.rik.ee.csv\n",
      "23 datasets\\wissel-aziende-companiesmarketcap.com.csv\n",
      "24 datasets\\wissel-aziende-gov.uk.csv\n",
      "25 datasets\\wissel-aziende-info-clipper.com.csv\n",
      "26 datasets\\wissel-categorie-companiesmarketcap.com.csv\n",
      "27 datasets\\wissel-partners-ariregister.rik.ee.csv\n",
      "28 datasets\\wissel-rappresentanti-ariregister.rik.ee.csv\n",
      "7.172413793103448\n",
      "0 datasets\\MalPatSaj-companiesmarketcap.com.xls\n",
      "1 datasets\\MalPatSaj-forbes.com.xls\n",
      "2 datasets\\MalPatSaj-wikipedia.org.xls\n",
      "6.666666666666667\n",
      "0 datasets\\MalPatSaj-disfold.com.xlsx\n",
      "7.0\n",
      "7.754385964912281\n"
     ]
    },
    {
     "name": "stderr",
     "output_type": "stream",
     "text": [
      "c:\\Users\\feder\\anaconda3\\envs\\bert\\lib\\site-packages\\openpyxl\\worksheet\\header_footer.py:48: UserWarning: Cannot parse header or footer so it will be ignored\n",
      "  warn(\"\"\"Cannot parse header or footer so it will be ignored\"\"\")\n"
     ]
    }
   ],
   "source": [
    "from pathlib import Path\n",
    "directory = 'datasets'\n",
    "dataset_list_json = Path(directory).glob('*.json')\n",
    "dataset_list_jsonl = Path(directory).glob('*.jsonl')\n",
    "dataset_list_csv = Path(directory).glob('*.csv')\n",
    "dataset_list_xls = Path(directory).glob('*.xls')\n",
    "dataset_list_xlsx = Path(directory).glob('*.xlsx')\n",
    "\n",
    "i=0\n",
    "i_tot=0\n",
    "tot = 0\n",
    "tot_final = 0\n",
    "for path in dataset_list_json:\n",
    "    print(str(i) + \" \" + str(path))\n",
    "    i = i+1\n",
    "    df2 = pd.read_json(path)\n",
    "    tot += len(df2.columns)\n",
    "print(tot/i)\n",
    "tot_final += tot\n",
    "i_tot += i\n",
    "\n",
    "i=0\n",
    "tot = 0\n",
    "for path in dataset_list_jsonl:\n",
    "    print(str(i) + \" \" + str(path))\n",
    "    i = i+1\n",
    "    df2 = pd.read_json(path, lines=True)\n",
    "    tot += len(df2.columns)\n",
    "print(tot/i)\n",
    "tot_final += tot\n",
    "i_tot += i\n",
    "   \n",
    "i=0 \n",
    "tot = 0\n",
    "for path in dataset_list_csv:\n",
    "    print(str(i) + \" \" + str(path))\n",
    "    i = i+1\n",
    "    df2 = pd.read_csv(path, encoding='ISO-8859-1')\n",
    "    tot += len(df2.columns)\n",
    "print(tot/i)\n",
    "tot_final += tot\n",
    "i_tot += i\n",
    "    \n",
    "i=0\n",
    "tot = 0\n",
    "for path in dataset_list_xls:\n",
    "    print(str(i) + \" \" + str(path))\n",
    "    i = i+1\n",
    "    df2 = pd.read_excel(path)\n",
    "    tot += len(df2)\n",
    "print(tot/i)\n",
    "tot_final += tot\n",
    "i_tot += i\n",
    "\n",
    "i=0\n",
    "tot = 0\n",
    "for path in dataset_list_xlsx:\n",
    "    print(str(i) + \" \" + str(path))\n",
    "    i = i+1\n",
    "    df2 = pd.read_excel(path)\n",
    "    tot += len(df2.columns)\n",
    "print(tot/i)\n",
    "tot_final += tot\n",
    "i_tot += i\n",
    "\n",
    "print(tot_final/i_tot)"
   ]
  },
  {
   "cell_type": "code",
   "execution_count": 49,
   "metadata": {},
   "outputs": [],
   "source": [
    "result_dm = pd.read_csv('datasets_deepmatcher/result_deepmatcher.csv')"
   ]
  },
  {
   "cell_type": "code",
   "execution_count": 51,
   "metadata": {},
   "outputs": [
    {
     "data": {
      "text/html": [
       "<div>\n",
       "<style scoped>\n",
       "    .dataframe tbody tr th:only-of-type {\n",
       "        vertical-align: middle;\n",
       "    }\n",
       "\n",
       "    .dataframe tbody tr th {\n",
       "        vertical-align: top;\n",
       "    }\n",
       "\n",
       "    .dataframe thead th {\n",
       "        text-align: right;\n",
       "    }\n",
       "</style>\n",
       "<table border=\"1\" class=\"dataframe\">\n",
       "  <thead>\n",
       "    <tr style=\"text-align: right;\">\n",
       "      <th></th>\n",
       "      <th>match_score</th>\n",
       "    </tr>\n",
       "  </thead>\n",
       "  <tbody>\n",
       "    <tr>\n",
       "      <th>0</th>\n",
       "      <td>0.946103</td>\n",
       "    </tr>\n",
       "    <tr>\n",
       "      <th>1</th>\n",
       "      <td>0.937398</td>\n",
       "    </tr>\n",
       "    <tr>\n",
       "      <th>2</th>\n",
       "      <td>0.937052</td>\n",
       "    </tr>\n",
       "    <tr>\n",
       "      <th>3</th>\n",
       "      <td>0.946806</td>\n",
       "    </tr>\n",
       "    <tr>\n",
       "      <th>4</th>\n",
       "      <td>0.938881</td>\n",
       "    </tr>\n",
       "    <tr>\n",
       "      <th>...</th>\n",
       "      <td>...</td>\n",
       "    </tr>\n",
       "    <tr>\n",
       "      <th>362252</th>\n",
       "      <td>0.949699</td>\n",
       "    </tr>\n",
       "    <tr>\n",
       "      <th>362253</th>\n",
       "      <td>0.930397</td>\n",
       "    </tr>\n",
       "    <tr>\n",
       "      <th>362254</th>\n",
       "      <td>0.935306</td>\n",
       "    </tr>\n",
       "    <tr>\n",
       "      <th>362255</th>\n",
       "      <td>0.950313</td>\n",
       "    </tr>\n",
       "    <tr>\n",
       "      <th>362256</th>\n",
       "      <td>0.953550</td>\n",
       "    </tr>\n",
       "  </tbody>\n",
       "</table>\n",
       "<p>362257 rows × 1 columns</p>\n",
       "</div>"
      ],
      "text/plain": [
       "        match_score\n",
       "0          0.946103\n",
       "1          0.937398\n",
       "2          0.937052\n",
       "3          0.946806\n",
       "4          0.938881\n",
       "...             ...\n",
       "362252     0.949699\n",
       "362253     0.930397\n",
       "362254     0.935306\n",
       "362255     0.950313\n",
       "362256     0.953550\n",
       "\n",
       "[362257 rows x 1 columns]"
      ]
     },
     "execution_count": 51,
     "metadata": {},
     "output_type": "execute_result"
    }
   ],
   "source": [
    "result_dm"
   ]
  },
  {
   "cell_type": "code",
   "execution_count": 54,
   "metadata": {},
   "outputs": [
    {
     "data": {
      "text/plain": [
       "1.0"
      ]
     },
     "execution_count": 54,
     "metadata": {},
     "output_type": "execute_result"
    }
   ],
   "source": [
    "len(result_dm[result_dm[result_dm.index == 0]>0.7])/len(result_dm)"
   ]
  }
 ],
 "metadata": {
  "kernelspec": {
   "display_name": "bert",
   "language": "python",
   "name": "python3"
  },
  "language_info": {
   "codemirror_mode": {
    "name": "ipython",
    "version": 3
   },
   "file_extension": ".py",
   "mimetype": "text/x-python",
   "name": "python",
   "nbconvert_exporter": "python",
   "pygments_lexer": "ipython3",
   "version": "3.8.15"
  },
  "orig_nbformat": 4,
  "vscode": {
   "interpreter": {
    "hash": "6e507f021528ee598d4189b61a0c3eda1bdaecd993998d2871a13eaf733316a7"
   }
  }
 },
 "nbformat": 4,
 "nbformat_minor": 2
}
