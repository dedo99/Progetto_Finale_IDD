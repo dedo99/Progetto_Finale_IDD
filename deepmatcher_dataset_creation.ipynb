{
 "cells": [
  {
   "cell_type": "markdown",
   "metadata": {},
   "source": [
    "# Creazione Dataset con coppie di record che sono in match"
   ]
  },
  {
   "cell_type": "code",
   "execution_count": null,
   "metadata": {},
   "outputs": [],
   "source": [
    "import csv\n",
    "import time\n",
    "\n",
    "start = time.time()\n",
    "\n",
    "df_match = pd.DataFrame(columns=['label','left_id', 'left_name' , 'left_industry', 'left_market_cap', 'left_employees', 'left_country', 'left_headquarters', 'left_address', 'left_sector', 'left_ceo', 'left_founded', 'left_founders', 'left_share_price', 'left_website', 'left_stock', 'left_area_served', 'left_revenue', 'right_id','right_name' , 'right_industry', 'right_market_cap', 'right_employees', 'right_country', 'right_headquarters', 'right_address', 'right_sector', 'right_ceo', 'right_founded', 'right_founders', 'right_share_price', 'right_website', 'right_stock', 'right_area_served', 'right_revenue'])\n",
    "for k in dict_matches_global.keys():\n",
    "    for v in dict_matches_global[k]:\n",
    "        df_match.loc[len(df_match.index)] = ([1, k, df[df.index == k]['name'].values[0] , df[df.index == k]['industry'].values[0], df[df.index == k]['market_cap'].values[0], df[df.index == k]['employees'].values[0], df[df.index == k]['country'].values[0], df[df.index == k]['headquarters'].values[0], df[df.index == k]['address'].values[0], df[df.index == k]['sector'].values[0], df[df.index == k]['ceo'].values[0], df[df.index == k]['founded'].values[0], df[df.index == k]['founders'].values[0], df[df.index == k]['share_price'].values[0], df[df.index == k]['website'].values[0], df[df.index == k]['stock'].values[0], df[df.index == k]['area_served'].values[0], df[df.index == k]['revenue'].values[0], v, df[df.index == v]['name'].values[0], df[df.index == v]['industry'].values[0], df[df.index == v]['market_cap'].values[0], df[df.index == v]['employees'].values[0], df[df.index == v]['country'].values[0], df[df.index == v]['headquarters'].values[0], df[df.index == v]['address'].values[0], df[df.index == v]['sector'].values[0], df[df.index == v]['ceo'].values[0], df[df.index == v]['founded'].values[0], df[df.index == v]['founders'].values[0], df[df.index == v]['share_price'].values[0], df[df.index == v]['website'].values[0], df[df.index == v]['stock'].values[0], df[df.index == v]['area_served'].values[0], df[df.index == v]['revenue'].values[0]])\n",
    "end = time.time()\n",
    "print(\"The time of execution of above program is :\", (end-start) * 10**3, \"ms\")"
   ]
  },
  {
   "cell_type": "code",
   "execution_count": null,
   "metadata": {},
   "outputs": [],
   "source": [
    "df_match.to_csv('output_match/df_match.csv')"
   ]
  },
  {
   "cell_type": "markdown",
   "metadata": {},
   "source": [
    "# Creazione Dataset con coppie di record che NON sono in match "
   ]
  },
  {
   "cell_type": "code",
   "execution_count": null,
   "metadata": {},
   "outputs": [],
   "source": [
    "candidate_links"
   ]
  },
  {
   "cell_type": "code",
   "execution_count": null,
   "metadata": {},
   "outputs": [],
   "source": [
    "lista_indici_nomi_null = df[df.name.isnull() == True].index\n",
    "df = df.drop(lista_indici_nomi_null)\n",
    "display(df)"
   ]
  },
  {
   "cell_type": "code",
   "execution_count": null,
   "metadata": {},
   "outputs": [],
   "source": [
    "stop = 0\n",
    "df_no_match = pd.DataFrame(columns=['label','left_id', 'left_name' , 'left_industry', 'left_market_cap', 'left_employees', 'left_country', 'left_headquarters', 'left_address', 'left_sector', 'left_ceo', 'left_founded', 'left_founders', 'left_share_price', 'left_website', 'left_stock', 'left_area_served', 'left_revenue', 'right_id','right_name' , 'right_industry', 'right_market_cap', 'right_employees', 'right_country', 'right_headquarters', 'right_address', 'right_sector', 'right_ceo', 'right_founded', 'right_founders', 'right_share_price', 'right_website', 'right_stock', 'right_area_served', 'right_revenue'])\n",
    "\n",
    "for k,v in zip(df.index, df.index):\n",
    "    try:\n",
    "        k = k + 1\n",
    "        if (k, v) not in candidate_links:\n",
    "            df_no_match.loc[len(df_no_match.index)] = ([0, k, df[df.index == k]['name'].values[0] , df[df.index == k]['industry'].values[0], df[df.index == k]['market_cap'].values[0], df[df.index == k]['employees'].values[0], df[df.index == k]['country'].values[0], df[df.index == k]['headquarters'].values[0], df[df.index == k]['address'].values[0], df[df.index == k]['sector'].values[0], df[df.index == k]['ceo'].values[0], df[df.index == k]['founded'].values[0], df[df.index == k]['founders'].values[0], df[df.index == k]['share_price'].values[0], df[df.index == k]['website'].values[0], df[df.index == k]['stock'].values[0], df[df.index == k]['area_served'].values[0], df[df.index == k]['revenue'].values[0], v, df[df.index == v]['name'].values[0], df[df.index == v]['industry'].values[0], df[df.index == v]['market_cap'].values[0], df[df.index == v]['employees'].values[0], df[df.index == v]['country'].values[0], df[df.index == v]['headquarters'].values[0], df[df.index == v]['address'].values[0], df[df.index == v]['sector'].values[0], df[df.index == v]['ceo'].values[0], df[df.index == v]['founded'].values[0], df[df.index == v]['founders'].values[0], df[df.index == v]['share_price'].values[0], df[df.index == v]['website'].values[0], df[df.index == v]['stock'].values[0], df[df.index == v]['area_served'].values[0], df[df.index == v]['revenue'].values[0]])\n",
    "            # print(\"i: \" + str(k) + \", j: \" + str(v))\n",
    "        if stop >= 60000:\n",
    "            break\n",
    "        stop = stop + 1\n",
    "    except:\n",
    "        break"
   ]
  },
  {
   "cell_type": "code",
   "execution_count": null,
   "metadata": {},
   "outputs": [],
   "source": [
    "display(df_no_match.left_name, df_no_match.right_name)"
   ]
  },
  {
   "cell_type": "code",
   "execution_count": null,
   "metadata": {},
   "outputs": [],
   "source": [
    "df_no_match.to_csv('output_match/df_no_match.csv')"
   ]
  },
  {
   "cell_type": "markdown",
   "metadata": {},
   "source": [
    "# Dataset Unlabeled"
   ]
  },
  {
   "cell_type": "code",
   "execution_count": null,
   "metadata": {},
   "outputs": [],
   "source": [
    "df_unlabel = pd.DataFrame(columns=['label','left_id', 'left_name' , 'left_industry', 'left_market_cap', 'left_employees', 'left_country', 'left_headquarters', 'left_address', 'left_sector', 'left_ceo', 'left_founded', 'left_founders', 'left_share_price', 'left_website', 'left_stock', 'left_area_served', 'left_revenue', 'right_id','right_name' , 'right_industry', 'right_market_cap', 'right_employees', 'right_country', 'right_headquarters', 'right_address', 'right_sector', 'right_ceo', 'right_founded', 'right_founders', 'right_share_price', 'right_website', 'right_stock', 'right_area_served', 'right_revenue'])\n",
    "\n",
    "for i,j in multi_index:\n",
    "    df_unlabel.loc[len(df_unlabel.index)] = ([0, i, df[df.index == i]['name'].values[0] , df[df.index == i]['industry'].values[0], df[df.index == i]['market_cap'].values[0], df[df.index == i]['employees'].values[0], df[df.index == i]['country'].values[0], df[df.index == i]['headquarters'].values[0], df[df.index == i]['address'].values[0], df[df.index == i]['sector'].values[0], df[df.index == i]['ceo'].values[0], df[df.index == i]['founded'].values[0], df[df.index == i]['founders'].values[0], df[df.index == i]['share_price'].values[0], df[df.index == i]['website'].values[0], df[df.index == i]['stock'].values[0], df[df.index == i]['area_served'].values[0], df[df.index == i]['revenue'].values[0], j, df[df.index == j]['name'].values[0], df[df.index == j]['industry'].values[0], df[df.index == j]['market_cap'].values[0], df[df.index == j]['employees'].values[0], df[df.index == j]['country'].values[0], df[df.index == j]['headquarters'].values[0], df[df.index == j]['address'].values[0], df[df.index == j]['sector'].values[0], df[df.index == j]['ceo'].values[0], df[df.index == j]['founded'].values[0], df[df.index == j]['founders'].values[0], df[df.index == j]['share_price'].values[0], df[df.index == j]['website'].values[0], df[df.index == j]['stock'].values[0], df[df.index == j]['area_served'].values[0], df[df.index == j]['revenue'].values[0]])\n"
   ]
  },
  {
   "cell_type": "code",
   "execution_count": null,
   "metadata": {},
   "outputs": [],
   "source": [
    "#rimuovi colonna label\n",
    "# df_unlabel = df_unlabel.drop(['label'], axis = 1)\n",
    "\n",
    "# Ottieni la lista delle colonne\n",
    "cols = df_unlabel.columns.tolist()\n",
    "\n",
    "# Sposta la 19esima colonna (colonna 'col19') alla terza posizione\n",
    "cols.insert(1, cols.pop(cols.index('right_id')))\n",
    "\n",
    "# Riordina il DataFrame utilizzando la nuova lista di colonne\n",
    "df_unlabel = df_unlabel.reindex(columns=cols)"
   ]
  },
  {
   "cell_type": "code",
   "execution_count": null,
   "metadata": {},
   "outputs": [],
   "source": [
    "# Crea un nuovo attributo \"id\" come indice numerico progressivo\n",
    "df_unlabel['_id'] = range(1, len(df_unlabel) + 1)\n",
    "df_unlabel = df_unlabel.reset_index(drop=True)\n",
    "# Imposta la colonna \"id\" come prima colonna\n",
    "cols = df_unlabel.columns.tolist()\n",
    "cols = cols[-1:] + cols[:-1]\n",
    "df_unlabel = df_unlabel[cols]"
   ]
  },
  {
   "cell_type": "code",
   "execution_count": null,
   "metadata": {},
   "outputs": [],
   "source": [
    "df_unlabel.to_csv('output_match/df_unlabel.csv')"
   ]
  },
  {
   "cell_type": "markdown",
   "metadata": {},
   "source": [
    "# Unione di df_match e df_no_match e suddivisione in train, test, validation per Deepmatcher"
   ]
  },
  {
   "cell_type": "code",
   "execution_count": null,
   "metadata": {},
   "outputs": [],
   "source": [
    "df_match = pd.read_csv('output_match/df_match.csv')\n",
    "df_no_match = pd.read_csv('output_match/df_no_match.csv')\n",
    "df_match = df_match.sample(len(df_no_match))\n",
    "\n",
    "df_match = df_match.drop(['Unnamed: 0'], axis = 1)\n",
    "df_no_match = df_no_match.drop(['Unnamed: 0'], axis = 1)\n"
   ]
  },
  {
   "cell_type": "code",
   "execution_count": null,
   "metadata": {},
   "outputs": [],
   "source": [
    "df_union = pd.concat([df_match, df_no_match], ignore_index=True)\n",
    "# display(df_union)"
   ]
  },
  {
   "cell_type": "code",
   "execution_count": null,
   "metadata": {},
   "outputs": [],
   "source": [
    "df_train = df_union.sample(7000)\n",
    "df_test = df_union.sample(2300)\n",
    "df_validation = df_union.sample(2300)\n",
    "\n",
    "# Crea un nuovo attributo \"id\" come indice numerico progressivo per TRAIN SET\n",
    "df_train['id'] = range(1, len(df_train) + 1)\n",
    "df_train = df_train.reset_index(drop=True)\n",
    "# Imposta la colonna \"id\" come prima colonna\n",
    "cols = df_train.columns.tolist()\n",
    "cols = cols[-1:] + cols[:-1]\n",
    "df_train = df_train[cols]\n",
    "\n",
    "# Crea un nuovo attributo \"id\" come indice numerico progressivo per TEST SET\n",
    "df_test['id'] = range(1, len(df_test) + 1)\n",
    "df_test = df_test.reset_index(drop=True)\n",
    "# Imposta la colonna \"id\" come prima colonna\n",
    "cols = df_test.columns.tolist()\n",
    "cols = cols[-1:] + cols[:-1]\n",
    "df_test = df_test[cols]\n",
    "\n",
    "# Crea un nuovo attributo \"id\" come indice numerico progressivo per VALIDATION SET\n",
    "df_validation['id'] = range(1, len(df_validation) + 1)\n",
    "df_validation = df_validation.reset_index(drop=True)\n",
    "# Imposta la colonna \"id\" come prima colonna\n",
    "cols = df_validation.columns.tolist()\n",
    "cols = cols[-1:] + cols[:-1]\n",
    "df_validation = df_validation[cols]\n",
    "\n",
    "\n",
    "display(df_train)\n",
    "display(df_test)\n",
    "display(df_validation)\n"
   ]
  }
 ],
 "metadata": {
  "language_info": {
   "name": "python"
  },
  "orig_nbformat": 4
 },
 "nbformat": 4,
 "nbformat_minor": 2
}
