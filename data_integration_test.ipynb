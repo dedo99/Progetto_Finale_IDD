{
 "cells": [
  {
   "attachments": {},
   "cell_type": "markdown",
   "metadata": {},
   "source": [
    "# Record linkage con Python Record Linkage Toolkit"
   ]
  },
  {
   "cell_type": "code",
   "execution_count": null,
   "metadata": {},
   "outputs": [],
   "source": [
    "import recordlinkage\n",
    "import pandas as pd"
   ]
  },
  {
   "attachments": {},
   "cell_type": "markdown",
   "metadata": {},
   "source": [
    "### Record Linkage per valutare le prestazioni del sistema attraverso due dataset appositamente costruiti (dataset_l e dataset_r)"
   ]
  },
  {
   "cell_type": "code",
   "execution_count": null,
   "metadata": {},
   "outputs": [],
   "source": [
    "def getCompleteDataset(path):\n",
    "    df = pd.read_csv(path, index_col='id')\n",
    "\n",
    "    df = df[df.name.isnull() == False]\n",
    "\n",
    "    df['name'] = df['name'].replace(r'\\s+|\\\\n|\\\\r', ' ', regex=True)\n",
    "    df['name'] = df['name'].str.upper()\n",
    "    df['industry'] = df['industry'].str.upper()\n",
    "    df['country'] = df['country'].str.upper()\n",
    "    #df['headquarters'] = df['headquarters'].str.upper()\n",
    "    df['address'] = df['address'].str.upper()\n",
    "    df['sector'] = df['sector'].str.upper()\n",
    "    df['ceo'] = df['ceo'].str.upper()\n",
    "    #df['founders'] = df['founders'].str.upper()\n",
    "    #df['area_served'] = df['area_served'].str.upper()\n",
    "\n",
    "    return df\n",
    "\n",
    "\n",
    "df_a = getCompleteDataset('datasets_test/dataset_l.csv')\n",
    "df_b = getCompleteDataset('datasets_test/dataset_r.csv')\n",
    "\n",
    "display(df_a)\n",
    "display(df_b)"
   ]
  },
  {
   "cell_type": "code",
   "execution_count": null,
   "metadata": {},
   "outputs": [],
   "source": [
    "indexer = recordlinkage.Index()\n",
    "indexer.block('name')\n",
    "candidate_links = indexer.index(df_a, df_b)"
   ]
  },
  {
   "cell_type": "code",
   "execution_count": null,
   "metadata": {},
   "outputs": [],
   "source": [
    "set_no_copy = set()\n",
    "for (c,b) in candidate_links:\n",
    "    if (b,c) not in set_no_copy and (c != b):\n",
    "        set_no_copy.add((c,b))\n",
    "\n",
    "list_no_copy = list(set_no_copy)\n",
    "# gli elementi delle coppie vengono distribuite su due liste parallele\n",
    "list_0 = [x[0] for x in list_no_copy]\n",
    "list_1 = [x[1] for x in list_no_copy]\n",
    "multi_index = pd.MultiIndex.from_arrays([list_0, list_1])"
   ]
  },
  {
   "cell_type": "code",
   "execution_count": null,
   "metadata": {},
   "outputs": [],
   "source": [
    "compare = recordlinkage.Compare()\n",
    "\n",
    "compare.string('name', 'name', method='jarowinkler', threshold=0.7)\n",
    "# compare.string('industry', 'industry', method='jarowinkler', threshold=0.85)\n",
    "compare.string('country', 'country', method='jarowinkler', threshold=0.5, missing_value=1)\n",
    "compare.string('headquarters', 'country', method='jarowinkler', threshold=0.5, missing_value=1)\n",
    "# compare.string('country', 'headquarters', method='jarowinkler', threshold=0.5)\n",
    "# compare.string('headquarters', 'headquarters', method='jarowinkler', threshold=0.5)\n",
    "\n",
    "\n",
    "# compare.string('headquarters', 'headquarters', method='jarowinkler', threshold=0.85)\n",
    "# compare.string('ceo', 'ceo', method='jarowinkler', threshold=0.85)\n",
    "# compare.string('sector', 'sector', method='jarowinkler', threshold=0.85)\n",
    "\n",
    "# The comparison vectors\n",
    "compare_vectors = compare.compute(candidate_links, df_a, df_b)\n",
    "compare_vectors = compare_vectors[compare_vectors.index.isin(multi_index)]"
   ]
  },
  {
   "cell_type": "code",
   "execution_count": null,
   "metadata": {},
   "outputs": [],
   "source": [
    "ecm = recordlinkage.ECMClassifier()\n",
    "matches = ecm.fit_predict(compare_vectors)"
   ]
  },
  {
   "cell_type": "code",
   "execution_count": null,
   "metadata": {},
   "outputs": [],
   "source": [
    "matches_l = [x[0] for x in matches.values]\n",
    "matches_r = [x[1] for x in matches.values]\n",
    "df_match_sistema = pd.DataFrame({\"idl\": matches_l, \"idr\":matches_r})\n",
    "df_match_sistema.to_csv('datasets_test/match_sistema.csv', index=False)"
   ]
  }
 ],
 "metadata": {
  "kernelspec": {
   "display_name": "Python 3",
   "language": "python",
   "name": "python3"
  },
  "language_info": {
   "codemirror_mode": {
    "name": "ipython",
    "version": 3
   },
   "file_extension": ".py",
   "mimetype": "text/x-python",
   "name": "python",
   "nbconvert_exporter": "python",
   "pygments_lexer": "ipython3",
   "version": "3.11.0"
  },
  "orig_nbformat": 4,
  "vscode": {
   "interpreter": {
    "hash": "c261aea317cc0286b3b3261fbba9abdec21eaa57589985bb7a274bf54d6cc0a7"
   }
  }
 },
 "nbformat": 4,
 "nbformat_minor": 2
}
